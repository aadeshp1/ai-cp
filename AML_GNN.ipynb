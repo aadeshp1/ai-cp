{
  "cells": [
    {
      "cell_type": "code",
      "execution_count": 10,
      "metadata": {
        "colab": {
          "base_uri": "https://localhost:8080/"
        },
        "id": "SY1ZIEj9dJF0",
        "outputId": "e9d73541-878c-4c31-e0ce-74820ffec101"
      },
      "outputs": [
        {
          "name": "stdout",
          "output_type": "stream",
          "text": [
            "\u001b[33mDEPRECATION: Loading egg at /Users/atharva/miniconda3/lib/python3.11/site-packages/tk-0.1.0-py3.11.egg is deprecated. pip 23.3 will enforce this behaviour change. A possible replacement is to use pip for package installation..\u001b[0m\u001b[33m\n",
            "\u001b[0mRequirement already satisfied: torch_geometric in /Users/atharva/miniconda3/lib/python3.11/site-packages (2.5.2)\n",
            "Requirement already satisfied: tqdm in /Users/atharva/miniconda3/lib/python3.11/site-packages (from torch_geometric) (4.65.0)\n",
            "Requirement already satisfied: numpy in /Users/atharva/miniconda3/lib/python3.11/site-packages (from torch_geometric) (1.26.2)\n",
            "Requirement already satisfied: scipy in /Users/atharva/miniconda3/lib/python3.11/site-packages (from torch_geometric) (1.11.4)\n",
            "Requirement already satisfied: fsspec in /Users/atharva/miniconda3/lib/python3.11/site-packages (from torch_geometric) (2023.10.0)\n",
            "Requirement already satisfied: jinja2 in /Users/atharva/miniconda3/lib/python3.11/site-packages (from torch_geometric) (3.1.2)\n",
            "Requirement already satisfied: aiohttp in /Users/atharva/miniconda3/lib/python3.11/site-packages (from torch_geometric) (3.9.1)\n",
            "Requirement already satisfied: requests in /Users/atharva/miniconda3/lib/python3.11/site-packages (from torch_geometric) (2.31.0)\n",
            "Requirement already satisfied: pyparsing in /Users/atharva/miniconda3/lib/python3.11/site-packages (from torch_geometric) (3.1.1)\n",
            "Requirement already satisfied: scikit-learn in /Users/atharva/miniconda3/lib/python3.11/site-packages (from torch_geometric) (1.2.2)\n",
            "Requirement already satisfied: psutil>=5.8.0 in /Users/atharva/miniconda3/lib/python3.11/site-packages (from torch_geometric) (5.9.0)\n",
            "Requirement already satisfied: attrs>=17.3.0 in /Users/atharva/miniconda3/lib/python3.11/site-packages (from aiohttp->torch_geometric) (23.1.0)\n",
            "Requirement already satisfied: multidict<7.0,>=4.5 in /Users/atharva/miniconda3/lib/python3.11/site-packages (from aiohttp->torch_geometric) (6.0.4)\n",
            "Requirement already satisfied: yarl<2.0,>=1.0 in /Users/atharva/miniconda3/lib/python3.11/site-packages (from aiohttp->torch_geometric) (1.9.4)\n",
            "Requirement already satisfied: frozenlist>=1.1.1 in /Users/atharva/miniconda3/lib/python3.11/site-packages (from aiohttp->torch_geometric) (1.4.0)\n",
            "Requirement already satisfied: aiosignal>=1.1.2 in /Users/atharva/miniconda3/lib/python3.11/site-packages (from aiohttp->torch_geometric) (1.3.1)\n",
            "Requirement already satisfied: MarkupSafe>=2.0 in /Users/atharva/miniconda3/lib/python3.11/site-packages (from jinja2->torch_geometric) (2.1.1)\n",
            "Requirement already satisfied: charset-normalizer<4,>=2 in /Users/atharva/miniconda3/lib/python3.11/site-packages (from requests->torch_geometric) (2.0.4)\n",
            "Requirement already satisfied: idna<4,>=2.5 in /Users/atharva/miniconda3/lib/python3.11/site-packages (from requests->torch_geometric) (3.4)\n",
            "Requirement already satisfied: urllib3<3,>=1.21.1 in /Users/atharva/miniconda3/lib/python3.11/site-packages (from requests->torch_geometric) (1.26.16)\n",
            "Requirement already satisfied: certifi>=2017.4.17 in /Users/atharva/miniconda3/lib/python3.11/site-packages (from requests->torch_geometric) (2024.2.2)\n",
            "Requirement already satisfied: joblib>=1.1.1 in /Users/atharva/miniconda3/lib/python3.11/site-packages (from scikit-learn->torch_geometric) (1.2.0)\n",
            "Requirement already satisfied: threadpoolctl>=2.0.0 in /Users/atharva/miniconda3/lib/python3.11/site-packages (from scikit-learn->torch_geometric) (2.2.0)\n",
            "Note: you may need to restart the kernel to use updated packages.\n"
          ]
        }
      ],
      "source": [
        "pip install torch_geometric\n"
      ]
    },
    {
      "cell_type": "code",
      "execution_count": 11,
      "metadata": {
        "id": "yiWL8dbrjYmE"
      },
      "outputs": [],
      "source": [
        "import torch"
      ]
    },
    {
      "cell_type": "code",
      "execution_count": 12,
      "metadata": {
        "colab": {
          "base_uri": "https://localhost:8080/"
        },
        "id": "baFfhYRejkCw",
        "outputId": "5b4bf930-84d7-4729-c4b7-48cf2bed3157"
      },
      "outputs": [
        {
          "name": "stdout",
          "output_type": "stream",
          "text": [
            "2.1.1\n"
          ]
        }
      ],
      "source": [
        "print(torch.__version__)"
      ]
    },
    {
      "cell_type": "code",
      "execution_count": 13,
      "metadata": {
        "colab": {
          "base_uri": "https://localhost:8080/"
        },
        "id": "neIcSSMEjt4K",
        "outputId": "56ab0d5d-2618-400b-9eda-f76105a13925"
      },
      "outputs": [
        {
          "name": "stdout",
          "output_type": "stream",
          "text": [
            "None\n"
          ]
        }
      ],
      "source": [
        "print(torch.version.cuda)"
      ]
    },
    {
      "cell_type": "code",
      "execution_count": 14,
      "metadata": {
        "colab": {
          "base_uri": "https://localhost:8080/"
        },
        "id": "upezMzGIlKT6",
        "outputId": "c4299e7f-3a98-40a0-eaaf-948dabe15bc4"
      },
      "outputs": [
        {
          "name": "stdout",
          "output_type": "stream",
          "text": [
            "\u001b[33mDEPRECATION: Loading egg at /Users/atharva/miniconda3/lib/python3.11/site-packages/tk-0.1.0-py3.11.egg is deprecated. pip 23.3 will enforce this behaviour change. A possible replacement is to use pip for package installation..\u001b[0m\u001b[33m\n",
            "\u001b[0mLooking in links: https://data.pyg.org/whl/torch-2.1.0+cu118.html\n",
            "\u001b[31mERROR: Could not find a version that satisfies the requirement pyg_lib (from versions: none)\u001b[0m\u001b[31m\n",
            "\u001b[0m\u001b[31mERROR: No matching distribution found for pyg_lib\u001b[0m\u001b[31m\n",
            "\u001b[0mNote: you may need to restart the kernel to use updated packages.\n"
          ]
        }
      ],
      "source": [
        "pip install pyg_lib torch_scatter torch_sparse torch_cluster torch_spline_conv -f https://data.pyg.org/whl/torch-2.1.0+cu118.html"
      ]
    },
    {
      "cell_type": "code",
      "execution_count": 15,
      "metadata": {
        "colab": {
          "base_uri": "https://localhost:8080/"
        },
        "id": "u0InFTkLlgML",
        "outputId": "c73fd434-05fe-4ffe-c751-017048efb56e"
      },
      "outputs": [
        {
          "name": "stdout",
          "output_type": "stream",
          "text": [
            "True\n"
          ]
        }
      ],
      "source": [
        "import torch; print(torch.backends.mps.is_available())"
      ]
    },
    {
      "cell_type": "code",
      "execution_count": 16,
      "metadata": {
        "id": "3QQUckD_c_zK"
      },
      "outputs": [],
      "source": [
        "import datetime\n",
        "import os\n",
        "from typing import Callable, Optional\n",
        "import pandas as pd\n",
        "from sklearn import preprocessing\n",
        "import numpy as np\n",
        "import torch\n",
        "\n",
        "from torch_geometric.data import (\n",
        "    Data,\n",
        "    InMemoryDataset\n",
        ")\n",
        "\n",
        "pd.set_option('display.max_columns', None)\n",
        "path = 'data/raw/HI-Small_Trans.csv'\n",
        "df = pd.read_csv(path)"
      ]
    },
    {
      "cell_type": "code",
      "execution_count": 17,
      "metadata": {
        "colab": {
          "base_uri": "https://localhost:8080/"
        },
        "id": "PV39kRTcdc-h",
        "outputId": "8c0e1fb4-a64f-4ae0-eb67-dc0c1c143f90"
      },
      "outputs": [
        {
          "name": "stdout",
          "output_type": "stream",
          "text": [
            "          Timestamp  From Bank    Account  To Bank  Account.1  \\\n",
            "0  2022/09/01 00:20         10  8000EBD30       10  8000EBD30   \n",
            "1  2022/09/01 00:20       3208  8000F4580        1  8000F5340   \n",
            "2  2022/09/01 00:00       3209  8000F4670     3209  8000F4670   \n",
            "3  2022/09/01 00:02         12  8000F5030       12  8000F5030   \n",
            "4  2022/09/01 00:06         10  8000F5200       10  8000F5200   \n",
            "\n",
            "   Amount Received Receiving Currency  Amount Paid Payment Currency  \\\n",
            "0          3697.34          US Dollar      3697.34        US Dollar   \n",
            "1             0.01          US Dollar         0.01        US Dollar   \n",
            "2         14675.57          US Dollar     14675.57        US Dollar   \n",
            "3          2806.97          US Dollar      2806.97        US Dollar   \n",
            "4         36682.97          US Dollar     36682.97        US Dollar   \n",
            "\n",
            "  Payment Format  Is Laundering  \n",
            "0   Reinvestment              0  \n",
            "1         Cheque              0  \n",
            "2   Reinvestment              0  \n",
            "3   Reinvestment              0  \n",
            "4   Reinvestment              0  \n"
          ]
        }
      ],
      "source": [
        "print(df.head())"
      ]
    },
    {
      "cell_type": "code",
      "execution_count": 18,
      "metadata": {
        "colab": {
          "base_uri": "https://localhost:8080/"
        },
        "id": "IrbQpme7dtXj",
        "outputId": "a59b3c37-2c98-4f22-b5f8-d3db738c6b7a"
      },
      "outputs": [
        {
          "name": "stdout",
          "output_type": "stream",
          "text": [
            "Timestamp              object\n",
            "From Bank               int64\n",
            "Account                object\n",
            "To Bank                 int64\n",
            "Account.1              object\n",
            "Amount Received       float64\n",
            "Receiving Currency     object\n",
            "Amount Paid           float64\n",
            "Payment Currency       object\n",
            "Payment Format         object\n",
            "Is Laundering           int64\n",
            "dtype: object\n"
          ]
        }
      ],
      "source": [
        "print(df.dtypes)"
      ]
    },
    {
      "cell_type": "markdown",
      "metadata": {
        "id": "4_2mEw_wdwD6"
      },
      "source": [
        "Check if theres any null values"
      ]
    },
    {
      "cell_type": "code",
      "execution_count": 19,
      "metadata": {
        "colab": {
          "base_uri": "https://localhost:8080/"
        },
        "id": "jobWecjtd3qY",
        "outputId": "3eac1765-ef59-4304-b6ae-e655f719b807"
      },
      "outputs": [
        {
          "name": "stdout",
          "output_type": "stream",
          "text": [
            "Timestamp             0\n",
            "From Bank             0\n",
            "Account               0\n",
            "To Bank               0\n",
            "Account.1             0\n",
            "Amount Received       0\n",
            "Receiving Currency    0\n",
            "Amount Paid           0\n",
            "Payment Currency      0\n",
            "Payment Format        0\n",
            "Is Laundering         0\n",
            "dtype: int64\n"
          ]
        }
      ],
      "source": [
        "print(df.isnull().sum())"
      ]
    },
    {
      "cell_type": "code",
      "execution_count": 20,
      "metadata": {
        "colab": {
          "base_uri": "https://localhost:8080/"
        },
        "id": "7NnlgRjMeQnq",
        "outputId": "d63a6765-f183-4a9f-a0fc-c2468e103154"
      },
      "outputs": [
        {
          "name": "stdout",
          "output_type": "stream",
          "text": [
            "Amount Received equals to Amount Paid:\n",
            "False\n",
            "Receiving Currency equals to Payment Currency:\n",
            "False\n"
          ]
        }
      ],
      "source": [
        "print('Amount Received equals to Amount Paid:')\n",
        "print(df['Amount Received'].equals(df['Amount Paid']))\n",
        "print('Receiving Currency equals to Payment Currency:')\n",
        "print(df['Receiving Currency'].equals(df['Payment Currency']))"
      ]
    },
    {
      "cell_type": "code",
      "execution_count": 21,
      "metadata": {
        "colab": {
          "base_uri": "https://localhost:8080/"
        },
        "id": "YxGWB4cbeR1I",
        "outputId": "edf58592-c0fe-432d-9a6f-139c410d78f7"
      },
      "outputs": [
        {
          "name": "stdout",
          "output_type": "stream",
          "text": [
            "                Timestamp  From Bank    Account  To Bank  Account.1  \\\n",
            "1173     2022/09/01 00:22       1362  80030A870     1362  80030A870   \n",
            "7156     2022/09/01 00:28      11318  800C51010    11318  800C51010   \n",
            "7925     2022/09/01 00:12        795  800D98770      795  800D98770   \n",
            "8467     2022/09/01 00:01       1047  800E92CF0     1047  800E92CF0   \n",
            "11529    2022/09/01 00:22      11157  80135FFC0    11157  80135FFC0   \n",
            "...                   ...        ...        ...      ...        ...   \n",
            "5078167  2022/09/10 23:30      23537  803949A90    23537  803949A90   \n",
            "5078234  2022/09/10 23:59      16163  803638A90    16163  803638A90   \n",
            "5078236  2022/09/10 23:55      16163  803638A90    16163  803638A90   \n",
            "5078316  2022/09/10 23:44     215064  808F06E11   215064  808F06E10   \n",
            "5078318  2022/09/10 23:45     215064  808F06E11   215064  808F06E10   \n",
            "\n",
            "         Amount Received Receiving Currency  Amount Paid Payment Currency  \\\n",
            "1173           52.110000               Euro        61.06        US Dollar   \n",
            "7156           76.060000               Euro        89.12        US Dollar   \n",
            "7925           17.690000  Australian Dollar        12.52        US Dollar   \n",
            "8467           19.430000               Euro        22.77        US Dollar   \n",
            "11529          98.340000               Euro       115.24        US Dollar   \n",
            "...                  ...                ...          ...              ...   \n",
            "5078167     26421.500000             Shekel      7823.96        US Dollar   \n",
            "5078234     47517.490000        Saudi Riyal     12667.62        US Dollar   \n",
            "5078236     11329.850000        Saudi Riyal      3020.41        US Dollar   \n",
            "5078316         0.000006            Bitcoin         0.07        US Dollar   \n",
            "5078318         0.000004            Bitcoin         0.05        US Dollar   \n",
            "\n",
            "        Payment Format  Is Laundering  \n",
            "1173               ACH              0  \n",
            "7156               ACH              0  \n",
            "7925               ACH              0  \n",
            "8467               ACH              0  \n",
            "11529              ACH              0  \n",
            "...                ...            ...  \n",
            "5078167            ACH              0  \n",
            "5078234            ACH              0  \n",
            "5078236            ACH              0  \n",
            "5078316            ACH              0  \n",
            "5078318           Wire              0  \n",
            "\n",
            "[72158 rows x 11 columns]\n",
            "---------------------------------------------------------------------------\n",
            "                Timestamp  From Bank    Account  To Bank  Account.1  \\\n",
            "1173     2022/09/01 00:22       1362  80030A870     1362  80030A870   \n",
            "7156     2022/09/01 00:28      11318  800C51010    11318  800C51010   \n",
            "7925     2022/09/01 00:12        795  800D98770      795  800D98770   \n",
            "8467     2022/09/01 00:01       1047  800E92CF0     1047  800E92CF0   \n",
            "11529    2022/09/01 00:22      11157  80135FFC0    11157  80135FFC0   \n",
            "...                   ...        ...        ...      ...        ...   \n",
            "5078167  2022/09/10 23:30      23537  803949A90    23537  803949A90   \n",
            "5078234  2022/09/10 23:59      16163  803638A90    16163  803638A90   \n",
            "5078236  2022/09/10 23:55      16163  803638A90    16163  803638A90   \n",
            "5078316  2022/09/10 23:44     215064  808F06E11   215064  808F06E10   \n",
            "5078318  2022/09/10 23:45     215064  808F06E11   215064  808F06E10   \n",
            "\n",
            "         Amount Received Receiving Currency  Amount Paid Payment Currency  \\\n",
            "1173           52.110000               Euro        61.06        US Dollar   \n",
            "7156           76.060000               Euro        89.12        US Dollar   \n",
            "7925           17.690000  Australian Dollar        12.52        US Dollar   \n",
            "8467           19.430000               Euro        22.77        US Dollar   \n",
            "11529          98.340000               Euro       115.24        US Dollar   \n",
            "...                  ...                ...          ...              ...   \n",
            "5078167     26421.500000             Shekel      7823.96        US Dollar   \n",
            "5078234     47517.490000        Saudi Riyal     12667.62        US Dollar   \n",
            "5078236     11329.850000        Saudi Riyal      3020.41        US Dollar   \n",
            "5078316         0.000006            Bitcoin         0.07        US Dollar   \n",
            "5078318         0.000004            Bitcoin         0.05        US Dollar   \n",
            "\n",
            "        Payment Format  Is Laundering  \n",
            "1173               ACH              0  \n",
            "7156               ACH              0  \n",
            "7925               ACH              0  \n",
            "8467               ACH              0  \n",
            "11529              ACH              0  \n",
            "...                ...            ...  \n",
            "5078167            ACH              0  \n",
            "5078234            ACH              0  \n",
            "5078236            ACH              0  \n",
            "5078316            ACH              0  \n",
            "5078318           Wire              0  \n",
            "\n",
            "[72170 rows x 11 columns]\n"
          ]
        }
      ],
      "source": [
        "not_equal1 = df.loc[~(df['Amount Received'] == df['Amount Paid'])]\n",
        "not_equal2 = df.loc[~(df['Receiving Currency'] == df['Payment Currency'])]\n",
        "print(not_equal1)\n",
        "print('---------------------------------------------------------------------------')\n",
        "print(not_equal2)"
      ]
    },
    {
      "cell_type": "code",
      "execution_count": 22,
      "metadata": {
        "colab": {
          "base_uri": "https://localhost:8080/"
        },
        "id": "bexPBqULef9l",
        "outputId": "7b8f069f-91cb-4371-f4fd-d5d78a3c706c"
      },
      "outputs": [
        {
          "name": "stdout",
          "output_type": "stream",
          "text": [
            "['Australian Dollar', 'Bitcoin', 'Brazil Real', 'Canadian Dollar', 'Euro', 'Mexican Peso', 'Ruble', 'Rupee', 'Saudi Riyal', 'Shekel', 'Swiss Franc', 'UK Pound', 'US Dollar', 'Yen', 'Yuan']\n",
            "['Australian Dollar', 'Bitcoin', 'Brazil Real', 'Canadian Dollar', 'Euro', 'Mexican Peso', 'Ruble', 'Rupee', 'Saudi Riyal', 'Shekel', 'Swiss Franc', 'UK Pound', 'US Dollar', 'Yen', 'Yuan']\n"
          ]
        }
      ],
      "source": [
        "print(sorted(df['Receiving Currency'].unique()))\n",
        "print(sorted(df['Payment Currency'].unique()))"
      ]
    },
    {
      "cell_type": "code",
      "execution_count": 23,
      "metadata": {
        "id": "rJuXrGPDei-u"
      },
      "outputs": [],
      "source": [
        "def df_label_encoder(df, columns):\n",
        "        le = preprocessing.LabelEncoder()\n",
        "        for i in columns:\n",
        "            df[i] = le.fit_transform(df[i].astype(str))\n",
        "        return df\n",
        "\n",
        "def preprocess(df):\n",
        "        df = df_label_encoder(df,['Payment Format', 'Payment Currency', 'Receiving Currency'])\n",
        "        df['Timestamp'] = pd.to_datetime(df['Timestamp'])\n",
        "        df['Timestamp'] = df['Timestamp'].apply(lambda x: x.value)\n",
        "        df['Timestamp'] = (df['Timestamp']-df['Timestamp'].min())/(df['Timestamp'].max()-df['Timestamp'].min())\n",
        "\n",
        "        df['Account'] = df['From Bank'].astype(str) + '_' + df['Account']\n",
        "        df['Account.1'] = df['To Bank'].astype(str) + '_' + df['Account.1']\n",
        "        df = df.sort_values(by=['Account'])\n",
        "        receiving_df = df[['Account.1', 'Amount Received', 'Receiving Currency']]\n",
        "        paying_df = df[['Account', 'Amount Paid', 'Payment Currency']]\n",
        "        receiving_df = receiving_df.rename({'Account.1': 'Account'}, axis=1)\n",
        "        currency_ls = sorted(df['Receiving Currency'].unique())\n",
        "\n",
        "        return df, receiving_df, paying_df, currency_ls"
      ]
    },
    {
      "cell_type": "code",
      "execution_count": 24,
      "metadata": {
        "colab": {
          "base_uri": "https://localhost:8080/"
        },
        "id": "8Eql2oNge8au",
        "outputId": "beb51943-d438-4028-e310-ad699961ae40"
      },
      "outputs": [
        {
          "name": "stdout",
          "output_type": "stream",
          "text": [
            "         Timestamp  From Bank          Account  To Bank        Account.1  \\\n",
            "4278714   0.456320      10057  10057_803A115E0    29467  29467_803E020C0   \n",
            "2798190   0.285018      10057  10057_803A115E0    29467  29467_803E020C0   \n",
            "2798191   0.284233      10057  10057_803A115E0    29467  29467_803E020C0   \n",
            "3918769   0.417079      10057  10057_803A115E0    29467  29467_803E020C0   \n",
            "213094    0.000746      10057  10057_803A115E0    10057  10057_803A115E0   \n",
            "\n",
            "         Amount Received  Receiving Currency  Amount Paid  Payment Currency  \\\n",
            "4278714        787197.11                  13    787197.11                13   \n",
            "2798190        787197.11                  13    787197.11                13   \n",
            "2798191        681262.19                  13    681262.19                13   \n",
            "3918769        681262.19                  13    681262.19                13   \n",
            "213094         146954.27                  13    146954.27                13   \n",
            "\n",
            "         Payment Format  Is Laundering  \n",
            "4278714               3              0  \n",
            "2798190               3              0  \n",
            "2798191               4              0  \n",
            "3918769               4              0  \n",
            "213094                5              0  \n"
          ]
        }
      ],
      "source": [
        "df, receiving_df, paying_df, currency_ls = preprocess(df = df)\n",
        "print(df.head())"
      ]
    },
    {
      "cell_type": "code",
      "execution_count": 25,
      "metadata": {
        "colab": {
          "base_uri": "https://localhost:8080/"
        },
        "id": "_NFs3V07fY0R",
        "outputId": "a09b6b92-d0e2-455a-96bf-402b6db15f20"
      },
      "outputs": [
        {
          "name": "stdout",
          "output_type": "stream",
          "text": [
            "                 Account  Amount Received  Receiving Currency\n",
            "4278714  29467_803E020C0        787197.11                  13\n",
            "2798190  29467_803E020C0        787197.11                  13\n",
            "2798191  29467_803E020C0        681262.19                  13\n",
            "3918769  29467_803E020C0        681262.19                  13\n",
            "213094   10057_803A115E0        146954.27                  13\n",
            "                 Account  Amount Paid  Payment Currency\n",
            "4278714  10057_803A115E0    787197.11                13\n",
            "2798190  10057_803A115E0    787197.11                13\n",
            "2798191  10057_803A115E0    681262.19                13\n",
            "3918769  10057_803A115E0    681262.19                13\n",
            "213094   10057_803A115E0    146954.27                13\n"
          ]
        }
      ],
      "source": [
        "print(receiving_df.head())\n",
        "print(paying_df.head())"
      ]
    },
    {
      "cell_type": "code",
      "execution_count": 26,
      "metadata": {
        "colab": {
          "base_uri": "https://localhost:8080/"
        },
        "id": "ZeFpDCEEfh-4",
        "outputId": "5b687909-bf51-46ff-98a4-cf2a189a6547"
      },
      "outputs": [
        {
          "name": "stdout",
          "output_type": "stream",
          "text": [
            "[0, 1, 2, 3, 4, 5, 6, 7, 8, 9, 10, 11, 12, 13, 14]\n"
          ]
        }
      ],
      "source": [
        "print(currency_ls)"
      ]
    },
    {
      "cell_type": "code",
      "execution_count": 27,
      "metadata": {
        "id": "Yi4nzkxufpFY"
      },
      "outputs": [],
      "source": [
        "def get_all_account(df):\n",
        "        ldf = df[['Account', 'From Bank']]\n",
        "        rdf = df[['Account.1', 'To Bank']]\n",
        "        suspicious = df[df['Is Laundering']==1]\n",
        "        s1 = suspicious[['Account', 'Is Laundering']]\n",
        "        s2 = suspicious[['Account.1', 'Is Laundering']]\n",
        "        s2 = s2.rename({'Account.1': 'Account'}, axis=1)\n",
        "        suspicious = pd.concat([s1, s2], join='outer')\n",
        "        suspicious = suspicious.drop_duplicates()\n",
        "\n",
        "        ldf = ldf.rename({'From Bank': 'Bank'}, axis=1)\n",
        "        rdf = rdf.rename({'Account.1': 'Account', 'To Bank': 'Bank'}, axis=1)\n",
        "        df = pd.concat([ldf, rdf], join='outer')\n",
        "        df = df.drop_duplicates()\n",
        "\n",
        "        df['Is Laundering'] = 0\n",
        "        df.set_index('Account', inplace=True)\n",
        "        df.update(suspicious.set_index('Account'))\n",
        "        df = df.reset_index()\n",
        "        return df"
      ]
    },
    {
      "cell_type": "code",
      "execution_count": 28,
      "metadata": {
        "colab": {
          "base_uri": "https://localhost:8080/"
        },
        "id": "XBEKktFZfuez",
        "outputId": "99dc3a24-1f39-45c0-a414-c3cbf899c0e9"
      },
      "outputs": [
        {
          "name": "stdout",
          "output_type": "stream",
          "text": [
            "           Account   Bank  Is Laundering\n",
            "0  10057_803A115E0  10057              0\n",
            "1  10057_803AA8E90  10057              0\n",
            "2  10057_803AAB430  10057              0\n",
            "3  10057_803AACE20  10057              0\n",
            "4  10057_803AB4F70  10057              0\n"
          ]
        }
      ],
      "source": [
        "accounts = get_all_account(df)\n",
        "print(accounts.head())"
      ]
    },
    {
      "cell_type": "code",
      "execution_count": 29,
      "metadata": {
        "id": "AEtud6YvgFes"
      },
      "outputs": [],
      "source": [
        "def paid_currency_aggregate(currency_ls, paying_df, accounts):\n",
        "        for i in currency_ls:\n",
        "            temp = paying_df[paying_df['Payment Currency'] == i]\n",
        "            accounts['avg paid '+str(i)] = temp['Amount Paid'].groupby(temp['Account']).transform('mean')\n",
        "        return accounts\n",
        "\n",
        "def received_currency_aggregate(currency_ls, receiving_df, accounts):\n",
        "    for i in currency_ls:\n",
        "        temp = receiving_df[receiving_df['Receiving Currency'] == i]\n",
        "        accounts['avg received '+str(i)] = temp['Amount Received'].groupby(temp['Account']).transform('mean')\n",
        "    accounts = accounts.fillna(0)\n",
        "    return accounts"
      ]
    },
    {
      "cell_type": "markdown",
      "metadata": {
        "id": "0zIiqF-1gShD"
      },
      "source": [
        "Now, we can establish the node attributes based on the bank code and the average of the amounts that have been paid and received in various currency types."
      ]
    },
    {
      "cell_type": "code",
      "execution_count": 30,
      "metadata": {
        "id": "J56Xddm6gTaw"
      },
      "outputs": [],
      "source": [
        "def get_node_attr(currency_ls, paying_df,receiving_df, accounts):\n",
        "        node_df = paid_currency_aggregate(currency_ls, paying_df, accounts)\n",
        "        node_df = received_currency_aggregate(currency_ls, receiving_df, node_df)\n",
        "        node_label = torch.from_numpy(node_df['Is Laundering'].values).to(torch.float)\n",
        "        node_df = node_df.drop(['Account', 'Is Laundering'], axis=1)\n",
        "        node_df = df_label_encoder(node_df,['Bank'])\n",
        "#         node_df = torch.from_numpy(node_df.values).to(torch.float)  # comment for visualization\n",
        "        return node_df, node_label"
      ]
    },
    {
      "cell_type": "code",
      "execution_count": 31,
      "metadata": {
        "colab": {
          "base_uri": "https://localhost:8080/"
        },
        "id": "XPpGfiDVgXcB",
        "outputId": "2587533d-98ce-459d-c103-50dd1f7eb5fb"
      },
      "outputs": [
        {
          "name": "stdout",
          "output_type": "stream",
          "text": [
            "   Bank  avg paid 0  avg paid 1  avg paid 2  avg paid 3  avg paid 4  \\\n",
            "0     2         0.0         0.0         0.0         0.0         0.0   \n",
            "1     2         0.0         0.0         0.0         0.0         0.0   \n",
            "2     2         0.0         0.0         0.0         0.0         0.0   \n",
            "3     2         0.0         0.0         0.0         0.0         0.0   \n",
            "4     2         0.0         0.0         0.0         0.0         0.0   \n",
            "\n",
            "   avg paid 5  avg paid 6  avg paid 7  avg paid 8  avg paid 9  avg paid 10  \\\n",
            "0         0.0         0.0         0.0         0.0         0.0          0.0   \n",
            "1         0.0         0.0         0.0         0.0         0.0          0.0   \n",
            "2         0.0         0.0         0.0         0.0         0.0          0.0   \n",
            "3         0.0         0.0         0.0         0.0         0.0          0.0   \n",
            "4         0.0         0.0         0.0         0.0         0.0          0.0   \n",
            "\n",
            "   avg paid 11   avg paid 12  avg paid 13  avg paid 14  avg received 0  \\\n",
            "0          0.0   1922.000000          0.0          0.0             0.0   \n",
            "1          0.0    480.223333          0.0          0.0             0.0   \n",
            "2          0.0  14675.570000          0.0          0.0             0.0   \n",
            "3          0.0  37340.843333          0.0          0.0             0.0   \n",
            "4          0.0  49649.409677          0.0          0.0             0.0   \n",
            "\n",
            "   avg received 1  avg received 2  avg received 3  avg received 4  \\\n",
            "0             0.0             0.0             0.0             0.0   \n",
            "1             0.0             0.0             0.0             0.0   \n",
            "2             0.0             0.0             0.0             0.0   \n",
            "3             0.0             0.0             0.0             0.0   \n",
            "4             0.0             0.0             0.0             0.0   \n",
            "\n",
            "   avg received 5  avg received 6  avg received 7  avg received 8  \\\n",
            "0             0.0             0.0             0.0             0.0   \n",
            "1             0.0             0.0             0.0             0.0   \n",
            "2             0.0             0.0             0.0             0.0   \n",
            "3             0.0             0.0             0.0             0.0   \n",
            "4             0.0             0.0             0.0             0.0   \n",
            "\n",
            "   avg received 9  avg received 10  avg received 11  avg received 12  \\\n",
            "0             0.0              0.0              0.0       330.166429   \n",
            "1             0.0              0.0              0.0       119.992000   \n",
            "2             0.0              0.0              0.0     14675.570000   \n",
            "3             0.0              0.0              0.0       756.486190   \n",
            "4             0.0              0.0              0.0      3120.573333   \n",
            "\n",
            "   avg received 13  avg received 14  \n",
            "0              0.0              0.0  \n",
            "1              0.0              0.0  \n",
            "2              0.0              0.0  \n",
            "3              0.0              0.0  \n",
            "4              0.0              0.0  \n"
          ]
        }
      ],
      "source": [
        "node_df, node_label = get_node_attr(currency_ls, paying_df,receiving_df, accounts)\n",
        "print(node_df.head())"
      ]
    },
    {
      "cell_type": "markdown",
      "metadata": {
        "id": "EvqxZgfShjM5"
      },
      "source": [
        "**Edge Features**"
      ]
    },
    {
      "cell_type": "markdown",
      "metadata": {
        "id": "ejY0XSZHhwwk"
      },
      "source": [
        "When it cmes to edge characteristics, we want to treat each transaction as an edge.\n",
        "Regarding the edge index, we'll have to replace all the accounts with indices and compile them into a list with a size of [2, number of transactions]\n",
        "For edge attributes, we will include 'Timestamp', 'Amount Received', 'Receiving Currency', 'Amount Paid', 'Payment Currency' and 'Payment Format'"
      ]
    },
    {
      "cell_type": "code",
      "execution_count": 32,
      "metadata": {
        "id": "Asun-23phkrv"
      },
      "outputs": [],
      "source": [
        "def get_edge_df(accounts, df):\n",
        "        accounts = accounts.reset_index(drop=True)\n",
        "        accounts['ID'] = accounts.index\n",
        "        mapping_dict = dict(zip(accounts['Account'], accounts['ID']))\n",
        "        df['From'] = df['Account'].map(mapping_dict)\n",
        "        df['To'] = df['Account.1'].map(mapping_dict)\n",
        "        df = df.drop(['Account', 'Account.1', 'From Bank', 'To Bank'], axis=1)\n",
        "\n",
        "        edge_index = torch.stack([torch.from_numpy(df['From'].values), torch.from_numpy(df['To'].values)], dim=0)\n",
        "\n",
        "        df = df.drop(['Is Laundering', 'From', 'To'], axis=1)\n",
        "\n",
        "#         edge_attr = torch.from_numpy(df.values).to(torch.float)  # comment for visualization\n",
        "\n",
        "        edge_attr = df  # for visualization\n",
        "        return edge_attr, edge_index"
      ]
    },
    {
      "cell_type": "code",
      "execution_count": 33,
      "metadata": {
        "colab": {
          "base_uri": "https://localhost:8080/"
        },
        "id": "wrVlGJJ9h00H",
        "outputId": "22e30a93-5498-4c29-ec4e-cd529befd63f"
      },
      "outputs": [
        {
          "name": "stdout",
          "output_type": "stream",
          "text": [
            "         Timestamp  Amount Received  Receiving Currency  Amount Paid  \\\n",
            "4278714   0.456320        787197.11                  13    787197.11   \n",
            "2798190   0.285018        787197.11                  13    787197.11   \n",
            "2798191   0.284233        681262.19                  13    681262.19   \n",
            "3918769   0.417079        681262.19                  13    681262.19   \n",
            "213094    0.000746        146954.27                  13    146954.27   \n",
            "\n",
            "         Payment Currency  Payment Format  \n",
            "4278714                13               3  \n",
            "2798190                13               3  \n",
            "2798191                13               4  \n",
            "3918769                13               4  \n",
            "213094                 13               5  \n"
          ]
        }
      ],
      "source": [
        "edge_attr, edge_index = get_edge_df(accounts, df)\n",
        "print(edge_attr.head())"
      ]
    },
    {
      "cell_type": "code",
      "execution_count": 34,
      "metadata": {
        "colab": {
          "base_uri": "https://localhost:8080/"
        },
        "id": "VonnsoQliLq3",
        "outputId": "e49c846e-00fc-40e7-d17b-24218bd68455"
      },
      "outputs": [
        {
          "name": "stdout",
          "output_type": "stream",
          "text": [
            "tensor([[     0,      0,      0,  ..., 496997, 496997, 496998],\n",
            "        [299458, 299458, 299458,  ..., 496997, 496997, 496998]])\n"
          ]
        }
      ],
      "source": [
        "print(edge_index)"
      ]
    },
    {
      "cell_type": "markdown",
      "metadata": {
        "id": "yP0GbaXKixxR"
      },
      "source": [
        "**Model Architecture**"
      ]
    },
    {
      "cell_type": "markdown",
      "metadata": {
        "id": "addiTiWrcT0n"
      },
      "source": [
        "We will employ Graph Attention Networks as the foundational model for the work. This model consists of two GATConv layers, followed by a linear layer that produces a sigmoid output for the classification"
      ]
    },
    {
      "cell_type": "code",
      "execution_count": 35,
      "metadata": {
        "id": "U1dZ-Uo1izdW"
      },
      "outputs": [],
      "source": [
        "import torch\n",
        "import torch.nn as nn\n",
        "import torch.nn.functional as F\n",
        "import torch_geometric.transforms as T\n",
        "from torch_geometric.nn import GATConv, Linear\n",
        "\n",
        "class GAT(torch.nn.Module):\n",
        "    def __init__(self, in_channels, hidden_channels, out_channels, heads):\n",
        "        super().__init__()\n",
        "        self.conv1 = GATConv(in_channels, hidden_channels, heads, dropout=0.6)\n",
        "        self.conv2 = GATConv(hidden_channels * heads, int(hidden_channels/4), heads=1, concat=False, dropout=0.6)\n",
        "        self.lin = Linear(int(hidden_channels/4), out_channels)\n",
        "        self.sigmoid = nn.Sigmoid()\n",
        "\n",
        "    def forward(self, x, edge_index, edge_attr):\n",
        "        x = F.dropout(x, p=0.6, training=self.training)\n",
        "        x = F.elu(self.conv1(x, edge_index, edge_attr))\n",
        "        x = F.dropout(x, p=0.6, training=self.training)\n",
        "        x = F.elu(self.conv2(x, edge_index, edge_attr))\n",
        "        x = self.lin(x)\n",
        "        x = self.sigmoid(x)\n",
        "\n",
        "        return x"
      ]
    },
    {
      "cell_type": "code",
      "execution_count": 36,
      "metadata": {
        "id": "qdvImqU-i7Lz"
      },
      "outputs": [],
      "source": [
        "class AMLtoGraph(InMemoryDataset):\n",
        "\n",
        "    def __init__(self, root: str, edge_window_size: int = 10,\n",
        "                 transform: Optional[Callable] = None,\n",
        "                 pre_transform: Optional[Callable] = None):\n",
        "        self.edge_window_size = edge_window_size\n",
        "        super().__init__(root, transform, pre_transform)\n",
        "        self.data, self.slices = torch.load(self.processed_paths[0])\n",
        "\n",
        "    @property\n",
        "    def raw_file_names(self) -> str:\n",
        "        return 'HI-Small_Trans.csv'\n",
        "\n",
        "    @property\n",
        "    def processed_file_names(self) -> str:\n",
        "        return 'data.pt'\n",
        "\n",
        "    @property\n",
        "    def num_nodes(self) -> int:\n",
        "        return self._data.edge_index.max().item() + 1\n",
        "\n",
        "    def df_label_encoder(self, df, columns):\n",
        "        le = preprocessing.LabelEncoder()\n",
        "        for i in columns:\n",
        "            df[i] = le.fit_transform(df[i].astype(str))\n",
        "        return df\n",
        "\n",
        "\n",
        "    def preprocess(self, df):\n",
        "        df = self.df_label_encoder(df,['Payment Format', 'Payment Currency', 'Receiving Currency'])\n",
        "        df['Timestamp'] = pd.to_datetime(df['Timestamp'])\n",
        "        df['Timestamp'] = df['Timestamp'].apply(lambda x: x.value)\n",
        "        df['Timestamp'] = (df['Timestamp']-df['Timestamp'].min())/(df['Timestamp'].max()-df['Timestamp'].min())\n",
        "\n",
        "        df['Account'] = df['From Bank'].astype(str) + '_' + df['Account']\n",
        "        df['Account.1'] = df['To Bank'].astype(str) + '_' + df['Account.1']\n",
        "        df = df.sort_values(by=['Account'])\n",
        "        receiving_df = df[['Account.1', 'Amount Received', 'Receiving Currency']]\n",
        "        paying_df = df[['Account', 'Amount Paid', 'Payment Currency']]\n",
        "        receiving_df = receiving_df.rename({'Account.1': 'Account'}, axis=1)\n",
        "        currency_ls = sorted(df['Receiving Currency'].unique())\n",
        "\n",
        "        return df, receiving_df, paying_df, currency_ls\n",
        "\n",
        "    def get_all_account(self, df):\n",
        "        ldf = df[['Account', 'From Bank']]\n",
        "        rdf = df[['Account.1', 'To Bank']]\n",
        "        suspicious = df[df['Is Laundering']==1]\n",
        "        s1 = suspicious[['Account', 'Is Laundering']]\n",
        "        s2 = suspicious[['Account.1', 'Is Laundering']]\n",
        "        s2 = s2.rename({'Account.1': 'Account'}, axis=1)\n",
        "        suspicious = pd.concat([s1, s2], join='outer')\n",
        "        suspicious = suspicious.drop_duplicates()\n",
        "\n",
        "        ldf = ldf.rename({'From Bank': 'Bank'}, axis=1)\n",
        "        rdf = rdf.rename({'Account.1': 'Account', 'To Bank': 'Bank'}, axis=1)\n",
        "        df = pd.concat([ldf, rdf], join='outer')\n",
        "        df = df.drop_duplicates()\n",
        "\n",
        "        df['Is Laundering'] = 0\n",
        "        df.set_index('Account', inplace=True)\n",
        "        df.update(suspicious.set_index('Account'))\n",
        "        df = df.reset_index()\n",
        "        return df\n",
        "\n",
        "    def paid_currency_aggregate(self, currency_ls, paying_df, accounts):\n",
        "        for i in currency_ls:\n",
        "            temp = paying_df[paying_df['Payment Currency'] == i]\n",
        "            accounts['avg paid '+str(i)] = temp['Amount Paid'].groupby(temp['Account']).transform('mean')\n",
        "        return accounts\n",
        "\n",
        "    def received_currency_aggregate(self, currency_ls, receiving_df, accounts):\n",
        "        for i in currency_ls:\n",
        "            temp = receiving_df[receiving_df['Receiving Currency'] == i]\n",
        "            accounts['avg received '+str(i)] = temp['Amount Received'].groupby(temp['Account']).transform('mean')\n",
        "        accounts = accounts.fillna(0)\n",
        "        return accounts\n",
        "\n",
        "    def get_edge_df(self, accounts, df):\n",
        "        accounts = accounts.reset_index(drop=True)\n",
        "        accounts['ID'] = accounts.index\n",
        "        mapping_dict = dict(zip(accounts['Account'], accounts['ID']))\n",
        "        df['From'] = df['Account'].map(mapping_dict)\n",
        "        df['To'] = df['Account.1'].map(mapping_dict)\n",
        "        df = df.drop(['Account', 'Account.1', 'From Bank', 'To Bank'], axis=1)\n",
        "\n",
        "        edge_index = torch.stack([torch.from_numpy(df['From'].values), torch.from_numpy(df['To'].values)], dim=0)\n",
        "\n",
        "        df = df.drop(['Is Laundering', 'From', 'To'], axis=1)\n",
        "\n",
        "        edge_attr = torch.from_numpy(df.values).to(torch.float)\n",
        "        return edge_attr, edge_index\n",
        "\n",
        "    def get_node_attr(self, currency_ls, paying_df,receiving_df, accounts):\n",
        "        node_df = self.paid_currency_aggregate(currency_ls, paying_df, accounts)\n",
        "        node_df = self.received_currency_aggregate(currency_ls, receiving_df, node_df)\n",
        "        node_label = torch.from_numpy(node_df['Is Laundering'].values).to(torch.float)\n",
        "        node_df = node_df.drop(['Account', 'Is Laundering'], axis=1)\n",
        "        node_df = self.df_label_encoder(node_df,['Bank'])\n",
        "        node_df = torch.from_numpy(node_df.values).to(torch.float)\n",
        "        return node_df, node_label\n",
        "\n",
        "    def process(self):\n",
        "        df = pd.read_csv(self.raw_paths[0])\n",
        "        df, receiving_df, paying_df, currency_ls = self.preprocess(df)\n",
        "        accounts = self.get_all_account(df)\n",
        "        node_attr, node_label = self.get_node_attr(currency_ls, paying_df,receiving_df, accounts)\n",
        "        edge_attr, edge_index = self.get_edge_df(accounts, df)\n",
        "\n",
        "        data = Data(x=node_attr,\n",
        "                    edge_index=edge_index,\n",
        "                    y=node_label,\n",
        "                    edge_attr=edge_attr\n",
        "                    )\n",
        "\n",
        "        data_list = [data]\n",
        "        if self.pre_filter is not None:\n",
        "            data_list = [d for d in data_list if self.pre_filter(d)]\n",
        "\n",
        "        if self.pre_transform is not None:\n",
        "            data_list = [self.pre_transform(d) for d in data_list]\n",
        "\n",
        "        data, slices = self.collate(data_list)\n",
        "        torch.save((data, slices), self.processed_paths[0])"
      ]
    },
    {
      "cell_type": "markdown",
      "metadata": {
        "id": "nTDXM5woi87m"
      },
      "source": [
        "**Model Training**"
      ]
    },
    {
      "cell_type": "code",
      "execution_count": 40,
      "metadata": {
        "colab": {
          "base_uri": "https://localhost:8080/"
        },
        "id": "olXODAWFi-G4",
        "outputId": "a5555987-f577-42b9-b9ad-d6d4b5da3a9d"
      },
      "outputs": [
        {
          "name": "stdout",
          "output_type": "stream",
          "text": [
            "Epoch: 000, Loss: 27690.1981\n",
            "accuracy: 0.9277569026312745\n",
            "Epoch: 001, Loss: 6119.4768\n",
            "accuracy: 0.9648963085543556\n",
            "Epoch: 002, Loss: 3568.5969\n",
            "accuracy: 0.969299900870029\n",
            "Epoch: 003, Loss: 2591.3392\n",
            "accuracy: 0.9706218156029796\n",
            "Epoch: 004, Loss: 2222.0898\n",
            "accuracy: 0.9707522293121842\n",
            "Epoch: 005, Loss: 2149.6207\n",
            "accuracy: 0.9708201734092418\n",
            "Epoch: 006, Loss: 2074.7352\n",
            "accuracy: 0.9708973688445446\n",
            "Epoch: 007, Loss: 1982.1982\n",
            "accuracy: 0.9709182389937107\n",
            "Epoch: 008, Loss: 1935.5833\n",
            "accuracy: 0.9710738190906759\n",
            "Epoch: 009, Loss: 1921.6971\n",
            "accuracy: 0.971180325232668\n",
            "Epoch: 010, Loss: 1909.6327\n",
            "accuracy: 0.9711824841020688\n",
            "Epoch: 011, Loss: 1895.6437\n",
            "accuracy: 0.971196685205113\n",
            "Epoch: 012, Loss: 1879.6283\n",
            "accuracy: 0.9711846586478723\n",
            "Epoch: 013, Loss: 1862.1400\n",
            "accuracy: 0.9712609557543496\n",
            "Epoch: 014, Loss: 1861.5011\n",
            "accuracy: 0.9713728074367319\n",
            "Epoch: 015, Loss: 1845.3948\n",
            "accuracy: 0.9714124856107332\n",
            "Epoch: 016, Loss: 1826.5229\n",
            "accuracy: 0.9713658048591666\n",
            "Epoch: 017, Loss: 1810.8049\n",
            "accuracy: 0.9713712536012188\n",
            "Epoch: 018, Loss: 1801.9335\n",
            "accuracy: 0.9715265797190381\n",
            "Epoch: 019, Loss: 1790.0630\n",
            "accuracy: 0.97161250056624\n",
            "Epoch: 020, Loss: 1780.0081\n",
            "accuracy: 0.9715836221074391\n",
            "Epoch: 021, Loss: 1762.8698\n",
            "accuracy: 0.9717183302647068\n",
            "Epoch: 022, Loss: 1755.5435\n",
            "accuracy: 0.9717368884417055\n",
            "Epoch: 023, Loss: 1752.1368\n",
            "accuracy: 0.9716899020441431\n",
            "Epoch: 024, Loss: 1744.1465\n",
            "accuracy: 0.9717559017893964\n",
            "Epoch: 025, Loss: 1727.8376\n",
            "accuracy: 0.9718326861557652\n",
            "Epoch: 026, Loss: 1717.3290\n",
            "accuracy: 0.9718391295822377\n",
            "Epoch: 027, Loss: 1721.2542\n",
            "accuracy: 0.9718501086169442\n",
            "Epoch: 028, Loss: 1708.1571\n",
            "accuracy: 0.9719605959881928\n",
            "Epoch: 029, Loss: 1690.7880\n",
            "accuracy: 0.9719285362197834\n",
            "Epoch: 030, Loss: 1689.6310\n",
            "accuracy: 0.9721186879737636\n",
            "Epoch: 031, Loss: 1694.8897\n",
            "accuracy: 0.9718068363519343\n",
            "Epoch: 032, Loss: 1676.6150\n",
            "accuracy: 0.971972581107518\n",
            "Epoch: 033, Loss: 1669.9000\n",
            "accuracy: 0.971883286455372\n",
            "Epoch: 034, Loss: 1679.2279\n",
            "accuracy: 0.9719495444002234\n",
            "Epoch: 035, Loss: 1664.0444\n",
            "accuracy: 0.9719678339192227\n",
            "Epoch: 036, Loss: 1661.1709\n",
            "accuracy: 0.9721087682588225\n",
            "Epoch: 037, Loss: 1655.4718\n",
            "accuracy: 0.9721261362722227\n",
            "Epoch: 038, Loss: 1651.3735\n",
            "accuracy: 0.9723103692788928\n",
            "Epoch: 039, Loss: 1653.8397\n",
            "accuracy: 0.9722257138403834\n",
            "Epoch: 040, Loss: 1638.4305\n",
            "accuracy: 0.9723278794099298\n",
            "Epoch: 041, Loss: 1640.6056\n",
            "accuracy: 0.9722001468709447\n",
            "Epoch: 042, Loss: 1628.9989\n",
            "accuracy: 0.972277954612882\n",
            "Epoch: 043, Loss: 1634.2064\n",
            "accuracy: 0.9723879170732198\n",
            "Epoch: 044, Loss: 1636.9530\n",
            "accuracy: 0.9724395197779878\n",
            "Epoch: 045, Loss: 1636.1616\n",
            "accuracy: 0.9723628575307065\n",
            "Epoch: 046, Loss: 1643.1295\n",
            "accuracy: 0.9724152146153614\n",
            "Epoch: 047, Loss: 1636.0227\n",
            "accuracy: 0.9724785869122403\n",
            "Epoch: 048, Loss: 1628.7018\n",
            "accuracy: 0.9726008792668082\n",
            "Epoch: 049, Loss: 1633.7029\n",
            "accuracy: 0.9725853879212848\n",
            "Epoch: 050, Loss: 1630.2625\n",
            "accuracy: 0.9726505527223714\n",
            "Epoch: 051, Loss: 1620.0905\n",
            "accuracy: 0.9727823087520993\n",
            "Epoch: 052, Loss: 1610.0649\n",
            "accuracy: 0.9725934383188899\n",
            "Epoch: 053, Loss: 1619.1558\n",
            "accuracy: 0.9726047384494634\n",
            "Epoch: 054, Loss: 1603.4887\n",
            "accuracy: 0.9726482141869156\n",
            "Epoch: 055, Loss: 1613.5657\n",
            "accuracy: 0.972723111667748\n",
            "Epoch: 056, Loss: 1609.5308\n",
            "accuracy: 0.9727587889887945\n",
            "Epoch: 057, Loss: 1621.2781\n",
            "accuracy: 0.9726711887605168\n",
            "Epoch: 058, Loss: 1612.3979\n",
            "accuracy: 0.9726596488404492\n",
            "Epoch: 059, Loss: 1593.1601\n",
            "accuracy: 0.9727296503440228\n",
            "Epoch: 060, Loss: 1602.7285\n",
            "accuracy: 0.9728313349963789\n",
            "Epoch: 061, Loss: 1589.3479\n",
            "accuracy: 0.9728073881813243\n",
            "Epoch: 062, Loss: 1599.6042\n",
            "accuracy: 0.972799557143576\n",
            "Epoch: 063, Loss: 1590.0988\n",
            "accuracy: 0.9727256721748535\n",
            "Epoch: 064, Loss: 1596.2771\n",
            "accuracy: 0.9727960964812998\n",
            "Epoch: 065, Loss: 1595.9593\n",
            "accuracy: 0.9727267241899475\n",
            "Epoch: 066, Loss: 1598.6765\n",
            "accuracy: 0.9728388849753447\n",
            "Epoch: 067, Loss: 1603.8397\n",
            "accuracy: 0.9728619206880077\n",
            "Epoch: 068, Loss: 1594.3318\n",
            "accuracy: 0.9727671858419541\n",
            "Epoch: 069, Loss: 1590.6397\n",
            "accuracy: 0.9729168656348803\n",
            "Epoch: 070, Loss: 1611.6620\n",
            "accuracy: 0.9729021550531848\n",
            "Epoch: 071, Loss: 1594.1345\n",
            "accuracy: 0.9728234631477309\n",
            "Epoch: 072, Loss: 1573.7272\n",
            "accuracy: 0.9728571859569376\n",
            "Epoch: 073, Loss: 1593.5319\n",
            "accuracy: 0.9729255490306492\n",
            "Epoch: 074, Loss: 1580.1855\n",
            "accuracy: 0.9729180805871854\n",
            "Epoch: 075, Loss: 1572.9033\n",
            "accuracy: 0.9728544780809589\n",
            "Epoch: 076, Loss: 1582.1625\n",
            "accuracy: 0.9728037260957478\n",
            "Epoch: 077, Loss: 1580.9714\n",
            "accuracy: 0.9728525447596057\n",
            "Epoch: 078, Loss: 1555.5966\n",
            "accuracy: 0.9586496787104171\n",
            "Epoch: 079, Loss: 1538.7820\n",
            "accuracy: 0.9585175349920284\n",
            "Epoch: 080, Loss: 1528.8338\n",
            "accuracy: 0.9584836727607603\n",
            "Epoch: 081, Loss: 1531.0505\n",
            "accuracy: 0.9588122557181447\n",
            "Epoch: 082, Loss: 1528.2597\n",
            "accuracy: 0.9588832334124653\n",
            "Epoch: 083, Loss: 1520.3855\n",
            "accuracy: 0.9585686340572969\n",
            "Epoch: 084, Loss: 1546.2599\n",
            "accuracy: 0.9585613682092555\n",
            "Epoch: 085, Loss: 1538.0507\n",
            "accuracy: 0.9588519585803875\n",
            "Epoch: 086, Loss: 1559.9154\n",
            "accuracy: 0.9589836477987421\n",
            "Epoch: 087, Loss: 1521.6459\n",
            "accuracy: 0.9589458749660398\n",
            "Epoch: 088, Loss: 1522.7758\n",
            "accuracy: 0.9585267827950282\n",
            "Epoch: 089, Loss: 1527.9088\n",
            "accuracy: 0.958862765218966\n",
            "Epoch: 090, Loss: 1521.1505\n",
            "accuracy: 0.9587139810045074\n",
            "Epoch: 091, Loss: 1511.4756\n",
            "accuracy: 0.9585327194505245\n",
            "Epoch: 092, Loss: 1522.9768\n",
            "accuracy: 0.9601096469168092\n",
            "Epoch: 093, Loss: 1501.1114\n",
            "accuracy: 0.9615953401340013\n",
            "Epoch: 094, Loss: 1543.7449\n",
            "accuracy: 0.9714796980085049\n",
            "Epoch: 095, Loss: 1511.2660\n",
            "accuracy: 0.9711222740140693\n",
            "Epoch: 096, Loss: 1506.2069\n",
            "accuracy: 0.971446387802106\n",
            "Epoch: 097, Loss: 1511.1875\n",
            "accuracy: 0.971245299712453\n",
            "Epoch: 098, Loss: 1556.6880\n",
            "accuracy: 0.9587357640146484\n",
            "Epoch: 099, Loss: 1554.6799\n",
            "accuracy: 0.9586051494590503\n"
          ]
        }
      ],
      "source": [
        "import torch\n",
        "import torch_geometric.transforms as T\n",
        "from torch_geometric.loader import NeighborLoader\n",
        "\n",
        "device = 'cpu'\n",
        "dataset = AMLtoGraph('data/')\n",
        "data = dataset[0]\n",
        "epoch = 100\n",
        "\n",
        "model = GAT(in_channels=data.num_features, hidden_channels=16, out_channels=1, heads=8)\n",
        "model = model.to(device)\n",
        "criterion = torch.nn.BCELoss()\n",
        "optimizer = torch.optim.SGD(model.parameters(), lr=0.0001)\n",
        "\n",
        "split = T.RandomNodeSplit(split='train_rest', num_val=0.1, num_test=0)\n",
        "data = split(data)\n",
        "\n",
        "train_loader = loader = NeighborLoader(\n",
        "    data,\n",
        "    num_neighbors=[30] * 2,\n",
        "    batch_size=256,\n",
        "    input_nodes=data.train_mask,\n",
        ")\n",
        "\n",
        "test_loader = loader = NeighborLoader(\n",
        "    data,\n",
        "    num_neighbors=[30] * 2,\n",
        "    batch_size=256,\n",
        "    input_nodes=data.val_mask,\n",
        ")\n",
        "\n",
        "for i in range(epoch):\n",
        "    total_loss = 0\n",
        "    model.train()\n",
        "    for data in train_loader:\n",
        "        optimizer.zero_grad()\n",
        "        data.to(device)\n",
        "        pred = model(data.x, data.edge_index, data.edge_attr)\n",
        "        ground_truth = data.y\n",
        "        loss = criterion(pred, ground_truth.unsqueeze(1))\n",
        "        loss.backward()\n",
        "        optimizer.step()\n",
        "        total_loss += float(loss)\n",
        "    if epoch%10 == 0:\n",
        "        print(f\"Epoch: {i:03d}, Loss: {total_loss:.4f}\")\n",
        "        model.eval()\n",
        "        acc = 0\n",
        "        total = 0\n",
        "        for test_data in test_loader:\n",
        "            test_data.to(device)\n",
        "            pred = model(test_data.x, test_data.edge_index, test_data.edge_attr)\n",
        "            ground_truth = test_data.y\n",
        "            correct = (pred == ground_truth.unsqueeze(1)).sum().item()\n",
        "            total += len(ground_truth)\n",
        "            acc += correct\n",
        "        acc = acc/total\n",
        "        print('accuracy:', acc)"
      ]
    }
  ],
  "metadata": {
    "accelerator": "GPU",
    "colab": {
      "authorship_tag": "ABX9TyP/JaxQ9eZajpKi4XIrNS04",
      "gpuType": "T4",
      "include_colab_link": true,
      "mount_file_id": "1FDaCYaXLQDOCQv_RIMh8_siYPSWqeHpu",
      "provenance": []
    },
    "kernelspec": {
      "display_name": "Python 3",
      "name": "python3"
    },
    "language_info": {
      "codemirror_mode": {
        "name": "ipython",
        "version": 3
      },
      "file_extension": ".py",
      "mimetype": "text/x-python",
      "name": "python",
      "nbconvert_exporter": "python",
      "pygments_lexer": "ipython3",
      "version": "3.11.5"
    }
  },
  "nbformat": 4,
  "nbformat_minor": 0
}
